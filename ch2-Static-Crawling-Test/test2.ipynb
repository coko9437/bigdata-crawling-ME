{
 "cells": [
  {
   "cell_type": "code",
   "id": "initial_id",
   "metadata": {
    "collapsed": true,
    "ExecuteTime": {
     "end_time": "2025-09-08T07:08:04.915004Z",
     "start_time": "2025-09-08T07:08:04.610414Z"
    }
   },
   "source": [
    "import bs4\n",
    "import urllib.request\n",
    "\n",
    "nateUrl = \"https://www.nate.com\"\n",
    "htmlObj = urllib.request.urlopen(nateUrl)\n",
    "webPage = htmlObj.read()\n",
    "\n",
    "bsObject = bs4.BeautifulSoup(webPage, \"html.parser\")\n",
    "# print(bsObject)\n",
    "\n",
    "# div -> id 속성 : NateBi\n",
    "tag = bsObject.find(\"div\", {\"id\":\"NateBi\"})\n",
    "print(tag)"
   ],
   "outputs": [
    {
     "name": "stdout",
     "output_type": "stream",
     "text": [
      "<div class=\"area_bi\" id=\"NateBi\" role=\"banner\">\n",
      "<h1 class=\"bi\" title=\"네이트\"><a href=\"//www.nate.com/?f=bi\" onmousedown=\"nc('NBI01');\">네이트</a></h1>\n",
      "</div>\n"
     ]
    }
   ],
   "execution_count": 1
  },
  {
   "metadata": {
    "ExecuteTime": {
     "end_time": "2025-09-08T07:11:32.270272Z",
     "start_time": "2025-09-08T07:11:32.262142Z"
    }
   },
   "cell_type": "code",
   "source": [
    "a_tag = tag.find('a') #위에서 <a></a>태그 만 따로 데이터마이닝\n",
    "print(a_tag)"
   ],
   "id": "8ec9418c358693fe",
   "outputs": [
    {
     "name": "stdout",
     "output_type": "stream",
     "text": [
      "<a href=\"//www.nate.com/?f=bi\" onmousedown=\"nc('NBI01');\">네이트</a>\n"
     ]
    }
   ],
   "execution_count": 2
  },
  {
   "metadata": {
    "ExecuteTime": {
     "end_time": "2025-09-08T07:11:48.958366Z",
     "start_time": "2025-09-08T07:11:48.948426Z"
    }
   },
   "cell_type": "code",
   "source": [
    "a_tag_href = a_tag['href']\n",
    "print(a_tag_href)"
   ],
   "id": "e21e1b9366e168a2",
   "outputs": [
    {
     "name": "stdout",
     "output_type": "stream",
     "text": [
      "//www.nate.com/?f=bi\n"
     ]
    }
   ],
   "execution_count": 3
  },
  {
   "metadata": {
    "ExecuteTime": {
     "end_time": "2025-09-08T07:12:09.606385Z",
     "start_time": "2025-09-08T07:12:09.596674Z"
    }
   },
   "cell_type": "code",
   "source": [
    "a_tag_text = a_tag.text\n",
    "print(a_tag_text)"
   ],
   "id": "ebb304d98e19766a",
   "outputs": [
    {
     "name": "stdout",
     "output_type": "stream",
     "text": [
      "네이트\n"
     ]
    }
   ],
   "execution_count": 4
  }
 ],
 "metadata": {
  "kernelspec": {
   "display_name": "Python 3",
   "language": "python",
   "name": "python3"
  },
  "language_info": {
   "codemirror_mode": {
    "name": "ipython",
    "version": 2
   },
   "file_extension": ".py",
   "mimetype": "text/x-python",
   "name": "python",
   "nbconvert_exporter": "python",
   "pygments_lexer": "ipython2",
   "version": "2.7.6"
  }
 },
 "nbformat": 4,
 "nbformat_minor": 5
}
