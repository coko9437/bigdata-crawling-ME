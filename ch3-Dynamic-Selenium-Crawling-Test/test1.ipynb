{
 "cells": [
  {
   "cell_type": "code",
   "id": "initial_id",
   "metadata": {
    "collapsed": true,
    "ExecuteTime": {
     "end_time": "2025-09-09T00:46:31.713687Z",
     "start_time": "2025-09-09T00:46:28.069432Z"
    }
   },
   "source": [
    "# selenium 설치,\n",
    "# pip install selenium\n",
    "\n",
    "# 웹 드라이버 실행, (Chrome)\n",
    "from selenium import webdriver\n",
    "from selenium.webdriver import ActionChains\n",
    "\n",
    "# Chrome 드라이버 실행.\n",
    "driver = webdriver.Chrome()\n",
    "# 특정 URL 열기. 구글\n",
    "driver.get(\"http://www.google.com\")\n",
    "# driver.quit()"
   ],
   "outputs": [],
   "execution_count": 1
  },
  {
   "metadata": {
    "ExecuteTime": {
     "end_time": "2025-09-09T01:15:57.421739Z",
     "start_time": "2025-09-09T01:15:55.209301Z"
    }
   },
   "cell_type": "code",
   "source": [
    "# 2 웹페이지 요소 찾기 (find_element, find_elements)\n",
    "from selenium import webdriver\n",
    "\n",
    "driver = webdriver.Chrome()\n",
    "driver.get(\"http://www.google.com\")\n",
    "\n",
    "#요소 찾기 (name 속성 사용)\n",
    "search_box = driver.find_element(\"name\",\"q\")\n",
    "print(search_box)\n",
    "\n",
    "#요소 여러 개 찾기 (class 속성 사용)\n",
    "links = driver.find_elements(\"tag name\", \"a\")\n",
    "print(len(links))\n",
    "# driver.quit()"
   ],
   "id": "5a56dc6d6b76f5e7",
   "outputs": [
    {
     "name": "stdout",
     "output_type": "stream",
     "text": [
      "<selenium.webdriver.remote.webelement.WebElement (session=\"57491ac6aef9fb569e1f1dee22c90ab9\", element=\"f.59340ADA74B651085D180EDCC8ED16DF.d.7A76C2BFDBE3DE985C643EA769A7B908.e.1\")>\n",
      "16\n"
     ]
    }
   ],
   "execution_count": 6
  },
  {
   "metadata": {
    "ExecuteTime": {
     "end_time": "2025-09-09T01:09:39.600559Z",
     "start_time": "2025-09-09T01:09:29.953816Z"
    }
   },
   "cell_type": "code",
   "source": [
    "# 3 웹 페이지 로딩 대기( implicitly_wait, time.sleep)\n",
    "# 웹페이지가 완전히 로드될 때까지 기다리는 기능,\n",
    "from selenium import webdriver\n",
    "import time\n",
    "\n",
    "driver = webdriver.Chrome()\n",
    "driver.get(\"http://www.google.com\")\n",
    "\n",
    "#암묵적 대기, (최대 10초까지 대기, 실행이 되면, 즉시 실행)\n",
    "# 전역처럼, 한번만 실행함.\n",
    "# driver.implicitly_wait(10)\n",
    "\n",
    "# 명시적 대기 (5초), 무조건 5초 기다림. , 매번 코드를 작성해야함.\n",
    "time.sleep(5)\n",
    "driver.quit()"
   ],
   "id": "74597b8383db294a",
   "outputs": [],
   "execution_count": 3
  },
  {
   "metadata": {
    "ExecuteTime": {
     "end_time": "2025-09-09T01:09:57.099084Z",
     "start_time": "2025-09-09T01:09:41.948492Z"
    }
   },
   "cell_type": "code",
   "source": [
    "# 4 특정 요소 클릭 (click)\n",
    "from selenium import webdriver\n",
    "import time\n",
    "\n",
    "driver = webdriver.Chrome()\n",
    "driver.get(\"http://www.google.com\")\n",
    "\n",
    "time.sleep(5)\n",
    "\n",
    "# 구글 , 이메일 버튼 클릭, Gmail\n",
    "button = driver.find_element(\"link text\", \"Gmail\")\n",
    "\n",
    "button.click()\n",
    "\n",
    "time.sleep(5)\n",
    "\n",
    "# driver.quit()"
   ],
   "id": "33a865d0754dd8c2",
   "outputs": [],
   "execution_count": 4
  },
  {
   "metadata": {
    "ExecuteTime": {
     "end_time": "2025-09-09T01:18:59.229741Z",
     "start_time": "2025-09-09T01:18:51.780989Z"
    }
   },
   "cell_type": "code",
   "source": [
    "#5 키보드 입력(send_keys())\n",
    "from selenium import webdriver\n",
    "import time\n",
    "from selenium.webdriver.common.keys import Keys\n",
    "\n",
    "driver = webdriver.Chrome()\n",
    "driver.get(\"http://www.google.com\")\n",
    "\n",
    "driver.implicitly_wait(10)\n",
    "\n",
    "search_box = driver.find_element(\"name\",\"q\")\n",
    "\n",
    "search_box.send_keys(\"날씨\")\n",
    "search_box.send_keys(Keys.RETURN)\n",
    "\n",
    "time.sleep(5)\n",
    "\n",
    "# driver.quit()"
   ],
   "id": "6f1242b260a5ff51",
   "outputs": [],
   "execution_count": 7
  },
  {
   "metadata": {
    "ExecuteTime": {
     "end_time": "2025-09-09T01:19:20.300349Z",
     "start_time": "2025-09-09T01:19:11.022519Z"
    }
   },
   "cell_type": "code",
   "source": [
    "# 6 자바스크립트 실행 (excute_script())\n",
    "from selenium import webdriver\n",
    "import time\n",
    "from selenium.webdriver.common.keys import Keys\n",
    "\n",
    "driver = webdriver.Chrome()\n",
    "driver.get(\"https://news.google.com\")\n",
    "time.sleep(3)\n",
    "\n",
    "#페이지 맨 아래로 스크롤\n",
    "driver.execute_script(\"window.scrollTo(0, document.body.scrollHeight);\")\n",
    "\n",
    "time.sleep(3)\n",
    "# driver.quit()"
   ],
   "id": "7bd7624443cec1da",
   "outputs": [],
   "execution_count": 8
  },
  {
   "metadata": {
    "ExecuteTime": {
     "end_time": "2025-09-09T01:19:31.722252Z",
     "start_time": "2025-09-09T01:19:20.320226Z"
    }
   },
   "cell_type": "code",
   "source": [
    "# 7 새창 열기 및 핸들 전환 (window_handles)\n",
    "from selenium import webdriver\n",
    "import time\n",
    "from selenium.webdriver.common.keys import Keys\n",
    "\n",
    "driver = webdriver.Chrome()\n",
    "driver.get(\"https://www.google.com\")\n",
    "time.sleep(3)\n",
    "\n",
    "# 새창 열기,\n",
    "driver.execute_script(\"window.open('https://naver.com');\")\n",
    "time.sleep(3)\n",
    "\n",
    "# 창 핸들 가져오기.\n",
    "windows = driver.window_handles\n",
    "driver.switch_to.window(windows[0])\n",
    "\n",
    "time.sleep(3)\n",
    "# driver.quit()"
   ],
   "id": "bb77960757cc6fce",
   "outputs": [],
   "execution_count": 9
  },
  {
   "metadata": {
    "ExecuteTime": {
     "end_time": "2025-09-09T01:29:49.737392Z",
     "start_time": "2025-09-09T01:29:27.442553Z"
    }
   },
   "cell_type": "code",
   "source": [
    "# 8 프레임 전환( switch_to.frame() )\n",
    "from selenium import webdriver\n",
    "import time\n",
    "from selenium.webdriver.common.keys import Keys\n",
    "\n",
    "driver = webdriver.Chrome()\n",
    "\n",
    "# iframe 테스트 사이트, w3schools\n",
    "driver.get(\"https://www.w3schools.com/html/html_iframe.asp\")\n",
    "time.sleep(3)\n",
    "\n",
    "#페이지 전환, iframe 안의 콘텐츠 로딩.\n",
    "iframe = driver.find_element(\"css selector\", \"iframe[src*='default.asp']\")\n",
    "driver.switch_to.frame(iframe)\n",
    "\n",
    "# 프레임 내 요소 찾기,\n",
    "element = driver.find_element(\"css selector\", \"h1\")\n",
    "print(element.text)\n",
    "time.sleep(3)\n",
    "# driver.quit()"
   ],
   "id": "a12cfe9960d2b6f7",
   "outputs": [
    {
     "name": "stdout",
     "output_type": "stream",
     "text": [
      "HTML Tutorial\n"
     ]
    }
   ],
   "execution_count": 10
  },
  {
   "metadata": {
    "ExecuteTime": {
     "end_time": "2025-09-09T01:30:20.176269Z",
     "start_time": "2025-09-09T01:30:08.809641Z"
    }
   },
   "cell_type": "code",
   "source": [
    "# 9 쿠키 가져오기 및 설정, (get_cookies, add_cookie)\n",
    "from selenium import webdriver\n",
    "import time\n",
    "from selenium.webdriver.common.keys import Keys\n",
    "\n",
    "driver = webdriver.Chrome()\n",
    "\n",
    "# iframe 테스트 사이트, w3schools\n",
    "driver.get(\"https://www.google.com\")\n",
    "time.sleep(3)\n",
    "\n",
    "# 기존 쿠키 출력\n",
    "# print(\"기존 쿠키:\")\n",
    "# print(driver.get_cookies())\n",
    "\n",
    "# 쿠키 추가,\n",
    "driver.add_cookie({\"name\":\"lsy_lunch\", \"value\":\"신라면\"})\n",
    "\n",
    "# 페이지 새로고침\n",
    "driver.refresh()\n",
    "time.sleep(3)\n",
    "\n",
    "#추가된 쿠키 확인.\n",
    "print(\"추가된 쿠키 확인 \")\n",
    "cookies = driver.get_cookies()\n",
    "print(cookies)\n",
    "\n",
    "# 특정 쿠키 값 만 출력 해보기.\n",
    "for cookie in cookies:\n",
    "    if cookie[\"name\"] == \"lsy_lunch\":\n",
    "        print(f\"추가된 값 : {cookie['value']}\")\n",
    "time.sleep(3)\n",
    "# driver.quit()"
   ],
   "id": "e5ee61262ce5242a",
   "outputs": [
    {
     "name": "stdout",
     "output_type": "stream",
     "text": [
      "추가된 쿠키 확인 \n",
      "[{'domain': 'www.google.com', 'httpOnly': False, 'name': 'lsy_lunch', 'path': '/', 'sameSite': 'Lax', 'secure': True, 'value': '신라면'}, {'domain': 'www.google.com', 'expiry': 1757403014, 'httpOnly': False, 'name': 'UULE', 'path': '/', 'sameSite': 'Lax', 'secure': True, 'value': 'a+cm9sZTogMQpwcm9kdWNlcjogMTIKdGltZXN0YW1wOiAxNzU3MzgxNDE0MDE0MDAwCmxhdGxuZyB7CiAgbGF0aXR1ZGVfZTc6IDM1MTUzNTEwNAogIGxvbmdpdHVkZV9lNzogMTI5MDYwMDQ0OAp9CnJhZGl1czogNTgzNjIzLjkyMjM3MDM4NzUKcHJvdmVuYW5jZTogNgo='}, {'domain': '.google.com', 'expiry': 1773192609, 'httpOnly': True, 'name': 'NID', 'path': '/', 'sameSite': 'None', 'secure': True, 'value': '525=m6VGGlOJ7UtnTMnunsh7oyeDlCAD-iP5zmgfelxogjq17_14mt8y4pfKzB6cL2UgaU2wDkw649Aj1BmHxy85MhE07r7GDve-8UQLpKGvQlDt42ces98D_QrGiIMf_i06AZdT9mvc-gjTy7_Y8mZvuBEYnHMVmpRceJvvzSIqKb9jgbjkBqPw-msXj_aokOtEPWMMNPXZl4iCxDPOWuHBQp3hrJWh'}, {'domain': '.google.com', 'expiry': 1772933410, 'httpOnly': True, 'name': 'AEC', 'path': '/', 'sameSite': 'Lax', 'secure': True, 'value': 'AVh_V2hJwnn8XoBlSzI6u6We_Cu465OMPC7orT1V4ZcXkDjbDDFhqMUITtE'}]\n",
      "추가된 값 : 신라면\n"
     ]
    }
   ],
   "execution_count": 11
  },
  {
   "metadata": {
    "ExecuteTime": {
     "end_time": "2025-09-09T01:36:57.597202Z",
     "start_time": "2025-09-09T01:36:52.102287Z"
    }
   },
   "cell_type": "code",
   "source": [
    "# 10 스크린 샷 저장 (save_screenshot())\n",
    "from selenium import webdriver\n",
    "import time\n",
    "from selenium.webdriver.common.keys import Keys\n",
    "\n",
    "driver = webdriver.Chrome()\n",
    "driver.get(\"https://www.google.com\")\n",
    "time.sleep(3)\n",
    "\n",
    "# 스크린샷 저장,\n",
    "driver.save_screenshot(\"test_screenshot.png\")\n",
    "# driver.quit()"
   ],
   "id": "22ef6cebd912122b",
   "outputs": [
    {
     "data": {
      "text/plain": [
       "True"
      ]
     },
     "execution_count": 12,
     "metadata": {},
     "output_type": "execute_result"
    }
   ],
   "execution_count": 12
  },
  {
   "metadata": {},
   "cell_type": "code",
   "outputs": [],
   "execution_count": null,
   "source": [
    "# 11 특정 요소가 로드될 때까지 대기 (WebDriverWait)\n",
    "from selenium import webdriver\n",
    "import time\n",
    "from selenium.webdriver.common.keys import Keys\n",
    "from selenium.webdriver.common.by import By\n",
    "from selenium.webdriver.support.ui import WebDriverWait\n",
    "from selenium.webdriver.support import expected_conditions as EC\n",
    "\n",
    "driver = webdriver.Chrome()\n",
    "driver.get(\"https://www.google.com\")\n",
    "\n",
    "# 특정 요소가 나타날 때까지 10초 대기.\n",
    "search_box = WebDriverWait(driver, 10).until(\n",
    "    EC.presence_of_element_located((By.NAME, \"q\"))\n",
    ")\n",
    "\n",
    "search_box.send_keys(\"selenium 대기 테스트 \")\n",
    "\n",
    "time.sleep(3)\n",
    "# driver.quit()"
   ],
   "id": "e4f7ec6ce362cbee"
  },
  {
   "metadata": {},
   "cell_type": "code",
   "outputs": [],
   "execution_count": null,
   "source": [
    "# 12  마우스 이벤트 조작 (ActionChains)\n",
    "from selenium import webdriver\n",
    "import time\n",
    "from selenium.webdriver.common.keys import Keys\n",
    "from selenium.webdriver.common.by import By\n",
    "from selenium.webdriver.support.ui import WebDriverWait\n",
    "from selenium.webdriver.support import expected_conditions as EC\n",
    "from selenium.webdriver.common.action_chains import ActionChains\n",
    "\n",
    "driver = webdriver.Chrome()\n",
    "driver.get(\"https://www.google.com\")\n",
    "\n",
    "# 요소 찾기,\n",
    "element = driver.find_element(\"link text\", \"Gmail\")\n",
    "\n",
    "# 마우스 오버\n",
    "actions = ActionChains(driver)\n",
    "actions.move_to_element(element).perform()\n",
    "\n",
    "time.sleep(3)\n",
    "# driver.quit()"
   ],
   "id": "b85cec8643df74de"
  },
  {
   "metadata": {},
   "cell_type": "code",
   "outputs": [],
   "execution_count": null,
   "source": [
    "# 13 입력값 삭제,\n",
    "from selenium import webdriver\n",
    "import time\n",
    "from selenium.webdriver.common.keys import Keys\n",
    "from selenium.webdriver.common.by import By\n",
    "from selenium.webdriver.support.ui import WebDriverWait\n",
    "from selenium.webdriver.support import expected_conditions as EC\n",
    "from selenium.webdriver.common.action_chains import ActionChains\n",
    "\n",
    "driver = webdriver.Chrome()\n",
    "driver.get(\"https://www.google.com\")\n",
    "\n",
    "search_box = driver.find_element(\"name\", \"q\")\n",
    "search_box.send_keys(\"selenium 입력 테스트 \")\n",
    "\n",
    "time.sleep(3)\n",
    "\n",
    "search_box.clear()\n",
    "\n",
    "time.sleep(3)\n",
    "driver.quit()"
   ],
   "id": "9025607f09287f18"
  },
  {
   "metadata": {},
   "cell_type": "code",
   "outputs": [],
   "execution_count": null,
   "source": [
    "# 14 브라우저 창 크기 조절, (set_winodw_size())\n",
    "from selenium import webdriver\n",
    "import time\n",
    "from selenium.webdriver.common.keys import Keys\n",
    "from selenium.webdriver.common.by import By\n",
    "from selenium.webdriver.support.ui import WebDriverWait\n",
    "from selenium.webdriver.support import expected_conditions as EC\n",
    "from selenium.webdriver.common.action_chains import ActionChains\n",
    "\n",
    "driver = webdriver.Chrome()\n",
    "driver.get(\"https://www.google.com\")\n",
    "time.sleep(3)\n",
    "\n",
    "# 브라우저 크기 조절.\n",
    "driver.set_window_size(1500, 768)\n",
    "\n",
    "time.sleep(3)\n",
    "driver.quit()"
   ],
   "id": "5840cd6408cb6489"
  },
  {
   "metadata": {},
   "cell_type": "code",
   "outputs": [],
   "execution_count": null,
   "source": [
    "# 15 특정 요소 로드 때 까지 대기 후, 클릭 해보기.\n",
    "\n",
    "from selenium import webdriver\n",
    "import time\n",
    "from selenium.webdriver.common.keys import Keys\n",
    "from selenium.webdriver.common.by import By\n",
    "from selenium.webdriver.support.ui import WebDriverWait\n",
    "from selenium.webdriver.support import expected_conditions as EC\n",
    "from selenium.webdriver.common.action_chains import ActionChains\n",
    "\n",
    "driver = webdriver.Chrome()\n",
    "driver.get(\"https://the-internet.herokuapp.com/dynamic_loading/1\")\n",
    "time.sleep(3)\n",
    "\n",
    "# start 버튼이 클릭 가능할 때까지 10초 대기 후 클릭.\n",
    "start_button = WebDriverWait(driver, 10).until(\n",
    "    EC.element_to_be_clickable((By.CSS_SELECTOR, \"#start button\"))\n",
    ")\n",
    "\n",
    "start_button.click()\n",
    "\n",
    "#로딩이 끝나고 결과 텍스트가 보일 때까지 대기.\n",
    "finish_element = WebDriverWait(driver, 10).until(\n",
    "    EC.presence_of_element_located((By.CSS_SELECTOR, \"#finish\"))\n",
    ")\n",
    "print(f\"10초후 문자열 출력: {finish_element}\")\n",
    "time.sleep(3)\n",
    "driver.quit()"
   ],
   "id": "c80f1891b5c955c4"
  },
  {
   "metadata": {},
   "cell_type": "code",
   "outputs": [],
   "execution_count": null,
   "source": [
    "#16 드래그 앤 드롭 (drag_and_drop())\n",
    "\n",
    "from selenium import webdriver\n",
    "import time\n",
    "from selenium.webdriver.common.keys import Keys\n",
    "from selenium.webdriver.common.by import By\n",
    "from selenium.webdriver.support.ui import WebDriverWait\n",
    "from selenium.webdriver.support import expected_conditions as EC\n",
    "from selenium.webdriver.common.action_chains import ActionChains\n",
    "\n",
    "driver = webdriver.Chrome()\n",
    "driver.get(\"https://jqueryui.com/droppable/\")\n",
    "time.sleep(3)\n",
    "\n",
    "#프레임 전환\n",
    "driver.switch_to.frame(0)\n",
    "\n",
    "#요소찾기.\n",
    "source = driver.find_element(\"id\", \"draggable\")\n",
    "target = driver.find_element(\"id\", \"droppable\")\n",
    "\n",
    "# 드래그 앤 드롭 실행.\n",
    "actions = ActionChains(driver)\n",
    "actions.drag_and_drop(source, target).perform()\n",
    "\n",
    "time.sleep(3)\n",
    "driver.quit()"
   ],
   "id": "efd3e815477ad5ff"
  },
  {
   "metadata": {},
   "cell_type": "code",
   "outputs": [],
   "execution_count": null,
   "source": [
    "# 17 웹 페이지 소스 코드 가져오기.\n",
    "\n",
    "from selenium import webdriver\n",
    "import time\n",
    "from selenium.webdriver.common.keys import Keys\n",
    "from selenium.webdriver.common.by import By\n",
    "from selenium.webdriver.support.ui import WebDriverWait\n",
    "from selenium.webdriver.support import expected_conditions as EC\n",
    "from selenium.webdriver.common.action_chains import ActionChains\n",
    "\n",
    "driver = webdriver.Chrome()\n",
    "driver.get(\"https://www.goolge.com\")\n",
    "time.sleep(3)\n",
    "\n",
    "html = driver.page_source\n",
    "print(html[:500])\n",
    "driver.quit()"
   ],
   "id": "2acd326654c8cd0e"
  },
  {
   "metadata": {},
   "cell_type": "code",
   "outputs": [],
   "execution_count": null,
   "source": [
    "# 18 파일 업로드 자동화,\n",
    "from selenium import webdriver\n",
    "import time\n",
    "from selenium.webdriver.common.keys import Keys\n",
    "from selenium.webdriver.common.by import By\n",
    "from selenium.webdriver.support.ui import WebDriverWait\n",
    "from selenium.webdriver.support import expected_conditions as EC\n",
    "from selenium.webdriver.common.action_chains import ActionChains\n",
    "\n",
    "driver = webdriver.Chrome()\n",
    "driver.get(\"https://tus.io/demo.html\")\n",
    "time.sleep(3)\n",
    "\n",
    "#파일 업로드 요소 찾기, xpath\n",
    "# 경로 : //*[@id=\"P0-0\"]\n",
    "# <input id=\"P0-0\" type=\"file\">\n",
    "upload = driver.find_element(\"xpath\", \"//input[@type='file']\")\n",
    "# 각자 업로드 테스트 할 파일 경로 지정 해주기.\n",
    "upload.send_keys(r\"D:\\Python-workspace-250901\\2-Python-crawling\\ch3-Dynmic-Selenium-Crawling-Test\\test_screenshot.png\")\n",
    "time.sleep(5)\n",
    "# driver.quit()"
   ],
   "id": "f843fdef5fb7bfa5"
  }
 ],
 "metadata": {
  "kernelspec": {
   "display_name": "Python 3",
   "language": "python",
   "name": "python3"
  },
  "language_info": {
   "codemirror_mode": {
    "name": "ipython",
    "version": 2
   },
   "file_extension": ".py",
   "mimetype": "text/x-python",
   "name": "python",
   "nbconvert_exporter": "python",
   "pygments_lexer": "ipython2",
   "version": "2.7.6"
  }
 },
 "nbformat": 4,
 "nbformat_minor": 5
}
